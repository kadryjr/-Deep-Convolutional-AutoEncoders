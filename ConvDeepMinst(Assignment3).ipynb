{
  "nbformat": 4,
  "nbformat_minor": 0,
  "metadata": {
    "colab": {
      "name": "ConvDeepMinst(Assignment3).ipynb",
      "provenance": [],
      "collapsed_sections": []
    },
    "kernelspec": {
      "name": "python3",
      "display_name": "Python 3"
    },
    "language_info": {
      "name": "python"
    },
    "accelerator": "GPU"
  },
  "cells": [
    {
      "cell_type": "markdown",
      "metadata": {
        "id": "TsFKyp51ntfi"
      },
      "source": [
        "**Loai Gamal Mohamed         20180206**\n",
        "**Ahmed Kadry Abd El-Shafy   20180018**"
      ]
    },
    {
      "cell_type": "code",
      "metadata": {
        "id": "EtEKFEPosGKi"
      },
      "source": [
        "import keras\n",
        "from keras import layers"
      ],
      "execution_count": 1,
      "outputs": []
    },
    {
      "cell_type": "code",
      "metadata": {
        "colab": {
          "base_uri": "https://localhost:8080/"
        },
        "id": "McnWZerBseo8",
        "outputId": "b6ccb9a7-31c9-4e81-e6fb-72501b6877cb"
      },
      "source": [
        "input_img = keras.Input(shape=(28, 28, 1))\n",
        "\n",
        "x = layers.Conv2D(8, (5, 5), activation='relu', padding='same')(input_img)\n",
        "\n",
        "y = layers.MaxPooling2D((2, 2), padding='same')(x)\n",
        "\n",
        "conv = layers.Conv2D(12, (3, 3), activation='relu', padding='same')(y)\n",
        "\n",
        "encoded = layers.MaxPooling2D((2, 2), padding='same')(conv)\n",
        "encoded_weights = encoded.shape\n",
        "\n",
        "print(y.shape)\n",
        "print(encoded_weights)"
      ],
      "execution_count": 2,
      "outputs": [
        {
          "output_type": "stream",
          "name": "stdout",
          "text": [
            "(None, 14, 14, 8)\n",
            "(None, 7, 7, 12)\n"
          ]
        }
      ]
    },
    {
      "cell_type": "code",
      "metadata": {
        "colab": {
          "base_uri": "https://localhost:8080/"
        },
        "id": "cS-GMr83sfAE",
        "outputId": "e19d91a5-37e3-47fa-aa68-8f49f6d4fac1"
      },
      "source": [
        "x = layers.UpSampling2D((2, 2))(encoded)\n",
        "conv = layers.Conv2D(12, (3, 3), activation='sigmoid', padding='same')(x)\n",
        "y = layers.UpSampling2D((2, 2))(x)\n",
        "decoded = layers.Conv2D(1, (3, 3), activation='sigmoid', padding='same')(y)\n",
        "\n",
        "print(x.shape)\n",
        "print(y.shape)\n",
        "print(decoded.shape)\n",
        "\n",
        "\n",
        "autoencoder = keras.Model(input_img, decoded)"
      ],
      "execution_count": 3,
      "outputs": [
        {
          "output_type": "stream",
          "name": "stdout",
          "text": [
            "(None, 14, 14, 12)\n",
            "(None, 28, 28, 12)\n",
            "(None, 28, 28, 1)\n"
          ]
        }
      ]
    },
    {
      "cell_type": "code",
      "metadata": {
        "colab": {
          "base_uri": "https://localhost:8080/"
        },
        "id": "J82V1MqZFuPn",
        "outputId": "6342b8de-fcca-47bf-e83a-a1c0d652f137"
      },
      "source": [
        "encoder = keras.Model(input_img, encoded)\n",
        "print(encoder.layers)"
      ],
      "execution_count": 4,
      "outputs": [
        {
          "output_type": "stream",
          "name": "stdout",
          "text": [
            "[<keras.engine.input_layer.InputLayer object at 0x7fa9febaa510>, <keras.layers.convolutional.Conv2D object at 0x7fa9febbaad0>, <keras.layers.pooling.MaxPooling2D object at 0x7faa79ef0990>, <keras.layers.convolutional.Conv2D object at 0x7fa9feb6e650>, <keras.layers.pooling.MaxPooling2D object at 0x7fa9feb6e7d0>]\n"
          ]
        }
      ]
    },
    {
      "cell_type": "code",
      "metadata": {
        "colab": {
          "base_uri": "https://localhost:8080/"
        },
        "id": "pl33It51QRj8",
        "outputId": "1500ac19-6032-40cf-814a-52ab9e180735"
      },
      "source": [
        "encoded_input = keras.Input(shape=(7, 7, 12))\n",
        "x = autoencoder.layers[-3](encoded_input)\n",
        "conv_hidden = autoencoder.layers[-2](x)\n",
        "y = autoencoder.layers[-1](conv_hidden)\n",
        "decoded_out = autoencoder.layers[0](y)\n",
        "decoder = keras.Model(encoded_input, decoded_out)\n",
        "\n",
        "print(decoder.layers)\n",
        "print(conv_hidden.shape)\n",
        "print(x.shape)\n",
        "print(y.shape)\n",
        "print(decoded_out.shape)"
      ],
      "execution_count": 5,
      "outputs": [
        {
          "output_type": "stream",
          "name": "stdout",
          "text": [
            "[<keras.engine.input_layer.InputLayer object at 0x7fa9f05540d0>, <keras.layers.convolutional.UpSampling2D object at 0x7fa9feaccc50>, <keras.layers.convolutional.UpSampling2D object at 0x7fa9feacc690>, <keras.layers.convolutional.Conv2D object at 0x7fa9febba310>, <keras.engine.input_layer.InputLayer object at 0x7fa9febaa510>]\n",
            "(None, 28, 28, 12)\n",
            "(None, 14, 14, 12)\n",
            "(None, 28, 28, 1)\n",
            "(None, 28, 28, 1)\n"
          ]
        }
      ]
    },
    {
      "cell_type": "code",
      "metadata": {
        "colab": {
          "base_uri": "https://localhost:8080/"
        },
        "id": "NxHK6BlOwUwt",
        "outputId": "7637175e-deb5-4d37-f5d7-b8769e953429"
      },
      "source": [
        "autoencoder.compile(optimizer='adam', loss='binary_crossentropy')\n",
        "autoencoder.summary()"
      ],
      "execution_count": 6,
      "outputs": [
        {
          "output_type": "stream",
          "name": "stdout",
          "text": [
            "Model: \"model\"\n",
            "_________________________________________________________________\n",
            " Layer (type)                Output Shape              Param #   \n",
            "=================================================================\n",
            " input_1 (InputLayer)        multiple                  0         \n",
            "                                                                 \n",
            " conv2d (Conv2D)             (None, 28, 28, 8)         208       \n",
            "                                                                 \n",
            " max_pooling2d (MaxPooling2D  (None, 14, 14, 8)        0         \n",
            " )                                                               \n",
            "                                                                 \n",
            " conv2d_1 (Conv2D)           (None, 14, 14, 12)        876       \n",
            "                                                                 \n",
            " max_pooling2d_1 (MaxPooling  (None, 7, 7, 12)         0         \n",
            " 2D)                                                             \n",
            "                                                                 \n",
            " up_sampling2d (UpSampling2D  (None, 14, 14, 12)       0         \n",
            " )                                                               \n",
            "                                                                 \n",
            " up_sampling2d_1 (UpSampling  (None, 28, 28, 12)       0         \n",
            " 2D)                                                             \n",
            "                                                                 \n",
            " conv2d_3 (Conv2D)           (None, 28, 28, 1)         109       \n",
            "                                                                 \n",
            "=================================================================\n",
            "Total params: 1,193\n",
            "Trainable params: 1,193\n",
            "Non-trainable params: 0\n",
            "_________________________________________________________________\n"
          ]
        }
      ]
    },
    {
      "cell_type": "code",
      "metadata": {
        "id": "px1dBQf8sfEs"
      },
      "source": [
        "from keras.datasets import mnist\n",
        "import numpy as np"
      ],
      "execution_count": 7,
      "outputs": []
    },
    {
      "cell_type": "code",
      "metadata": {
        "colab": {
          "base_uri": "https://localhost:8080/"
        },
        "id": "X4yie24nsfGz",
        "outputId": "7f3a78e5-60b5-4b1c-cbf0-913d32d6734e"
      },
      "source": [
        "(x_train, _), (x_test, _) = mnist.load_data()\n",
        "\n",
        "x_train = x_train.astype('float32') / 255.\n",
        "x_test = x_test.astype('float32') / 255.\n",
        "x_train = np.reshape(x_train, (len(x_train), 28, 28, 1))\n",
        "x_test = np.reshape(x_test, (len(x_test), 28, 28, 1))\n",
        "\n",
        "print(x_test.shape)\n",
        "print(x_train.shape)"
      ],
      "execution_count": 8,
      "outputs": [
        {
          "output_type": "stream",
          "name": "stdout",
          "text": [
            "Downloading data from https://storage.googleapis.com/tensorflow/tf-keras-datasets/mnist.npz\n",
            "11493376/11490434 [==============================] - 0s 0us/step\n",
            "11501568/11490434 [==============================] - 0s 0us/step\n",
            "(10000, 28, 28, 1)\n",
            "(60000, 28, 28, 1)\n"
          ]
        }
      ]
    },
    {
      "cell_type": "code",
      "metadata": {
        "colab": {
          "base_uri": "https://localhost:8080/"
        },
        "id": "sbXMBWnzsfI7",
        "outputId": "c6afd4af-42ff-4bbf-ec8d-b4f2a6827658"
      },
      "source": [
        "autoencoder.fit(x_train, x_train,\n",
        "                epochs=10, #5, #50,\n",
        "                batch_size=128,\n",
        "                shuffle=True,\n",
        "                validation_data=(x_test, x_test))\n",
        "                #callbacks=[TensorBoard(log_dir='/tmp/autoencoder')])"
      ],
      "execution_count": 9,
      "outputs": [
        {
          "output_type": "stream",
          "name": "stdout",
          "text": [
            "Epoch 1/10\n",
            "469/469 [==============================] - 35s 10ms/step - loss: 0.2021 - val_loss: 0.1143\n",
            "Epoch 2/10\n",
            "469/469 [==============================] - 4s 9ms/step - loss: 0.1093 - val_loss: 0.1047\n",
            "Epoch 3/10\n",
            "469/469 [==============================] - 4s 9ms/step - loss: 0.1042 - val_loss: 0.1020\n",
            "Epoch 4/10\n",
            "469/469 [==============================] - 4s 9ms/step - loss: 0.1022 - val_loss: 0.1004\n",
            "Epoch 5/10\n",
            "469/469 [==============================] - 4s 9ms/step - loss: 0.1008 - val_loss: 0.0993\n",
            "Epoch 6/10\n",
            "469/469 [==============================] - 4s 9ms/step - loss: 0.0998 - val_loss: 0.0984\n",
            "Epoch 7/10\n",
            "469/469 [==============================] - 4s 9ms/step - loss: 0.0990 - val_loss: 0.0978\n",
            "Epoch 8/10\n",
            "469/469 [==============================] - 4s 10ms/step - loss: 0.0984 - val_loss: 0.0973\n",
            "Epoch 9/10\n",
            "469/469 [==============================] - 4s 9ms/step - loss: 0.0980 - val_loss: 0.0969\n",
            "Epoch 10/10\n",
            "469/469 [==============================] - 4s 9ms/step - loss: 0.0976 - val_loss: 0.0965\n"
          ]
        },
        {
          "output_type": "execute_result",
          "data": {
            "text/plain": [
              "<keras.callbacks.History at 0x7faa00cc1b90>"
            ]
          },
          "metadata": {},
          "execution_count": 9
        }
      ]
    },
    {
      "cell_type": "code",
      "metadata": {
        "id": "pSxGLu8JNFd2"
      },
      "source": [
        "encode_imgs = encoder.predict(x_test)\n",
        "decode_imgs = decoder.predict(encode_imgs)"
      ],
      "execution_count": 10,
      "outputs": []
    },
    {
      "cell_type": "code",
      "metadata": {
        "colab": {
          "base_uri": "https://localhost:8080/",
          "height": 266
        },
        "id": "TFUu5Qr4gFIL",
        "outputId": "acbcc0db-ec62-4cc4-9886-3694681d6b24"
      },
      "source": [
        "import matplotlib.pyplot as plt\n",
        "import random\n",
        "\n",
        "k = 10\n",
        "num_list = random.sample(range(0, 10000-1), k)\n",
        "print(num_list)\n",
        "plt.figure(figsize=(20, 4))\n",
        "for i in range(1, k + 1):\n",
        "    # Display original\n",
        "    ax = plt.subplot(2, k, i)\n",
        "    plt.imshow(x_test[num_list[i-1]].reshape(28, 28))\n",
        "    plt.gray()\n",
        "    ax.get_xaxis().set_visible(False)\n",
        "    ax.get_yaxis().set_visible(False)\n",
        "    \n",
        "\n",
        "    # Display reconstruction\n",
        "    ax = plt.subplot(2, k, i + k)\n",
        "    plt.imshow(decode_imgs[num_list[i-1]].reshape(28, 28))\n",
        "    plt.gray()\n",
        "    ax.get_xaxis().set_visible(False)\n",
        "    ax.get_yaxis().set_visible(False)\n",
        "plt.show()"
      ],
      "execution_count": 27,
      "outputs": [
        {
          "output_type": "stream",
          "name": "stdout",
          "text": [
            "[9559, 5347, 5658, 892, 7172, 9115, 1271, 3492, 632, 9249]\n"
          ]
        },
        {
          "output_type": "display_data",
          "data": {
            "image/png": "[encoded data removed]",
            "text/plain": [
              "<Figure size 1440x288 with 20 Axes>"
            ]
          },
          "metadata": {
            "needs_background": "light"
          }
        }
      ]
    },
    {
      "cell_type": "code",
      "metadata": {
        "colab": {
          "base_uri": "https://localhost:8080/",
          "height": 129
        },
        "id": "MrvMamVkgYMu",
        "outputId": "6a7b6dec-5b2d-4035-98a4-56b78d8c8c17"
      },
      "source": [
        "k = 10\n",
        "plt.figure(figsize=(20, 8))\n",
        "for i in range(1, k + 1):\n",
        "    ax = plt.subplot(1, k, i)\n",
        "    plt.imshow(encode_imgs[num_list[i-1],:,:,4].reshape((7 , 7)))\n",
        "    plt.gray()\n",
        "    ax.get_xaxis().set_visible(False)\n",
        "    ax.get_yaxis().set_visible(False)\n",
        "plt.show()"
      ],
      "execution_count": 28,
      "outputs": [
        {
          "output_type": "display_data",
          "data": {
            "image/png": "[encoded data removed]",
            "text/plain": [
              "<Figure size 1440x576 with 10 Axes>"
            ]
          },
          "metadata": {
            "needs_background": "light"
          }
        }
      ]
    },
    {
      "cell_type": "code",
      "metadata": {
        "colab": {
          "base_uri": "https://localhost:8080/",
          "height": 248
        },
        "id": "HKliLrmGsfPf",
        "outputId": "a2412e8c-c616-48c5-cbd4-b03d84d19d2f"
      },
      "source": [
        "import matplotlib.pyplot as plt\n",
        "\n",
        "n = 10\n",
        "plt.figure(figsize=(20, 4))\n",
        "for i in range(1, n + 1):\n",
        "    # Display original\n",
        "    ax = plt.subplot(2, n, i)\n",
        "    plt.imshow(x_test[i].reshape(28, 28))\n",
        "    plt.gray()\n",
        "    ax.get_xaxis().set_visible(False)\n",
        "    ax.get_yaxis().set_visible(False)\n",
        "    \n",
        "\n",
        "    # Display reconstruction\n",
        "    ax = plt.subplot(2, n, i + n)\n",
        "    plt.imshow(decode_imgs[i].reshape(28, 28))\n",
        "    plt.gray()\n",
        "    ax.get_xaxis().set_visible(False)\n",
        "    ax.get_yaxis().set_visible(False)\n",
        "plt.show()"
      ],
      "execution_count": 29,
      "outputs": [
        {
          "output_type": "display_data",
          "data": {
            "image/png": "[encoded data removed]",
            "text/plain": [
              "<Figure size 1440x288 with 20 Axes>"
            ]
          },
          "metadata": {
            "needs_background": "light"
          }
        }
      ]
    },
    {
      "cell_type": "code",
      "metadata": {
        "colab": {
          "base_uri": "https://localhost:8080/",
          "height": 129
        },
        "id": "a4mfd9jiswlO",
        "outputId": "34f08f6c-6782-4692-ea52-8efe99c6fb0c"
      },
      "source": [
        "n = 10\n",
        "plt.figure(figsize=(20, 8))\n",
        "for i in range(1, n + 1):\n",
        "    ax = plt.subplot(1, n, i)\n",
        "    plt.imshow(encode_imgs[i,:,:,4].reshape((7 , 7)))\n",
        "    plt.gray()\n",
        "    ax.get_xaxis().set_visible(False)\n",
        "    ax.get_yaxis().set_visible(False)\n",
        "plt.show()"
      ],
      "execution_count": 30,
      "outputs": [
        {
          "output_type": "display_data",
          "data": {
            "image/png": "[encoded data removed]",
            "text/plain": [
              "<Figure size 1440x576 with 10 Axes>"
            ]
          },
          "metadata": {
            "needs_background": "light"
          }
        }
      ]
    }
  ]
}